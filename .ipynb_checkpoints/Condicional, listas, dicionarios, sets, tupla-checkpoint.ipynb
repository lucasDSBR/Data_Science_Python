{
 "cells": [
  {
   "cell_type": "code",
   "execution_count": null,
   "id": "bae73d94",
   "metadata": {},
   "outputs": [],
   "source": [
    "nota = 5\n",
    "if(nota > 5):\n",
    "    print(\"nota maior que 5\");\n",
    "elif(nota > 0 and nota < 10):\n",
    "    print(\"nota entre 0 e 10\");\n",
    "else:\n",
    "    print(\"nota não maior que 5\");"
   ]
  },
  {
   "cell_type": "code",
   "execution_count": 19,
   "id": "8a2296b2",
   "metadata": {},
   "outputs": [
    {
     "name": "stdout",
     "output_type": "stream",
     "text": [
      "Contanto:1\n",
      "Contanto:2\n",
      "Contanto:3\n",
      "Contanto:4\n",
      "Contanto:5\n"
     ]
    }
   ],
   "source": [
    "#Estrutura de repetição\n",
    "count = 1;\n",
    "while(count <= 5):\n",
    "    print(\"Contanto:\"+ str(count));\n",
    "    count += 1\n"
   ]
  },
  {
   "cell_type": "code",
   "execution_count": 30,
   "id": "9cc063ea",
   "metadata": {},
   "outputs": [
    {
     "ename": "IndentationError",
     "evalue": "expected an indented block (Temp/ipykernel_22720/3433838837.py, line 4)",
     "output_type": "error",
     "traceback": [
      "\u001b[1;36m  File \u001b[1;32m\"C:\\Users\\acerte\\AppData\\Local\\Temp/ipykernel_22720/3433838837.py\"\u001b[1;36m, line \u001b[1;32m4\u001b[0m\n\u001b[1;33m    print(\"contanto: \"+str(n));\u001b[0m\n\u001b[1;37m    ^\u001b[0m\n\u001b[1;31mIndentationError\u001b[0m\u001b[1;31m:\u001b[0m expected an indented block\n"
     ]
    }
   ],
   "source": [
    "#Estrutura de repetição\n",
    "try:\n",
    "    for n in range(0, 10):\n",
    "        print(\"contanto: \"+str(n));\n",
    "        if(n == 5):\n",
    "            print(\"chegou ao numero \"+ str(n))\n",
    "            continue;\n",
    "        if(n == 7):\n",
    "            print(\"Chegou ao numero \"+str(n))\n",
    "            break;\n",
    "except error:\n",
    "    print(\"err\")"
   ]
  },
  {
   "cell_type": "code",
   "execution_count": null,
   "id": "8d264fc7",
   "metadata": {},
   "outputs": [],
   "source": []
  }
 ],
 "metadata": {
  "kernelspec": {
   "display_name": "Python 3 (ipykernel)",
   "language": "python",
   "name": "python3"
  },
  "language_info": {
   "codemirror_mode": {
    "name": "ipython",
    "version": 3
   },
   "file_extension": ".py",
   "mimetype": "text/x-python",
   "name": "python",
   "nbconvert_exporter": "python",
   "pygments_lexer": "ipython3",
   "version": "3.9.7"
  }
 },
 "nbformat": 4,
 "nbformat_minor": 5
}
