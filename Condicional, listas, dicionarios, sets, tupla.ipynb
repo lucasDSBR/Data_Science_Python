{
 "cells": [
  {
   "cell_type": "code",
   "execution_count": null,
   "id": "594e71fc",
   "metadata": {},
   "outputs": [],
   "source": [
    "nota = 5\n",
    "if(nota > 5):\n",
    "    print(\"nota maior que 5\");\n",
    "elif(nota > 0 and nota < 10):\n",
    "    print(\"nota entre 0 e 10\");\n",
    "else:\n",
    "    print(\"nota não maior que 5\");"
   ]
  },
  {
   "cell_type": "code",
   "execution_count": 19,
   "id": "ebfe014e",
   "metadata": {},
   "outputs": [
    {
     "name": "stdout",
     "output_type": "stream",
     "text": [
      "Contanto:1\n",
      "Contanto:2\n",
      "Contanto:3\n",
      "Contanto:4\n",
      "Contanto:5\n"
     ]
    }
   ],
   "source": [
    "#Estrutura de repetição\n",
    "count = 1;\n",
    "while(count <= 5):\n",
    "    print(\"Contanto:\"+ str(count));\n",
    "    count += 1\n"
   ]
  },
  {
   "cell_type": "code",
   "execution_count": 31,
   "id": "142cc26e",
   "metadata": {},
   "outputs": [
    {
     "name": "stdout",
     "output_type": "stream",
     "text": [
      "contanto: 0\n",
      "contanto: 1\n",
      "contanto: 2\n",
      "contanto: 3\n",
      "contanto: 4\n",
      "contanto: 5\n",
      "chegou ao numero 5\n",
      "contanto: 6\n",
      "contanto: 7\n",
      "Chegou ao numero 7\n"
     ]
    }
   ],
   "source": [
    "#Estrutura de repetição\n",
    "try:\n",
    "    for n in range(0, 10):\n",
    "        print(\"contanto: \"+str(n));\n",
    "        if(n == 5):\n",
    "            print(\"chegou ao numero \"+ str(n))\n",
    "            continue;\n",
    "        if(n == 7):\n",
    "            print(\"Chegou ao numero \"+str(n))\n",
    "            break;\n",
    "except error:\n",
    "    print(\"err\")"
   ]
  },
  {
   "cell_type": "markdown",
   "id": "5f5a7be7",
   "metadata": {},
   "source": []
  },
  {
   "cell_type": "code",
   "execution_count": 40,
   "id": "cf4e12a2",
   "metadata": {},
   "outputs": [
    {
     "name": "stdout",
     "output_type": "stream",
     "text": [
      "10\n"
     ]
    }
   ],
   "source": [
    "#Listas\n",
    "\n",
    "lista = list(range(0, 10))\n",
    "\n",
    "print(len(lista))"
   ]
  },
  {
   "cell_type": "code",
   "execution_count": 64,
   "id": "e33e2ef1",
   "metadata": {},
   "outputs": [
    {
     "name": "stdout",
     "output_type": "stream",
     "text": [
      "{'joao': 8.5, 'pedro': 9.5, 'maria': 10}\n",
      "8.5\n"
     ]
    }
   ],
   "source": [
    "#Dicionarios: estrutura chave/valor\n",
    "notas = {'joao': 8.5, 'pedro': 9.5, 'maria': 10}\n",
    "print(notas)\n",
    "print(notas['joao'])"
   ]
  },
  {
   "cell_type": "code",
   "execution_count": 65,
   "id": "b8204e43",
   "metadata": {},
   "outputs": [
    {
     "data": {
      "text/plain": [
       "dict_keys(['joao', 'pedro', 'maria'])"
      ]
     },
     "execution_count": 65,
     "metadata": {},
     "output_type": "execute_result"
    }
   ],
   "source": [
    "#Todas as chaves\n",
    "notas.keys()"
   ]
  },
  {
   "cell_type": "code",
   "execution_count": 66,
   "id": "3f821cd3",
   "metadata": {},
   "outputs": [
    {
     "data": {
      "text/plain": [
       "dict_values([8.5, 9.5, 10])"
      ]
     },
     "execution_count": 66,
     "metadata": {},
     "output_type": "execute_result"
    }
   ],
   "source": [
    "#Todos os valores\n",
    "notas.values()"
   ]
  },
  {
   "cell_type": "code",
   "execution_count": 67,
   "id": "03f8366e",
   "metadata": {},
   "outputs": [
    {
     "name": "stdout",
     "output_type": "stream",
     "text": [
      "True\n"
     ]
    }
   ],
   "source": [
    "#Testa logicamente a existência\n",
    "\n",
    "print('joao' in notas)"
   ]
  },
  {
   "cell_type": "code",
   "execution_count": 68,
   "id": "f022b495",
   "metadata": {},
   "outputs": [
    {
     "name": "stdout",
     "output_type": "stream",
     "text": [
      "{'joao': 8.5, 'pedro': 9.5}\n"
     ]
    }
   ],
   "source": [
    "#Excluindo item de um dicionario\n",
    "del notas['maria']\n",
    "print(notas)"
   ]
  },
  {
   "cell_type": "code",
   "execution_count": 70,
   "id": "bedd204e",
   "metadata": {},
   "outputs": [
    {
     "name": "stdout",
     "output_type": "stream",
     "text": [
      "{'joao': 8.5, 'pedro': 9.5, 'ana': 9}\n"
     ]
    }
   ],
   "source": [
    "#Inserir\n",
    "notas['ana'] = 9\n",
    "print(notas)"
   ]
  },
  {
   "cell_type": "code",
   "execution_count": 73,
   "id": "ea73733e",
   "metadata": {},
   "outputs": [
    {
     "data": {
      "text/plain": [
       "9"
      ]
     },
     "execution_count": 73,
     "metadata": {},
     "output_type": "execute_result"
    }
   ],
   "source": [
    "#Buscar, caso não encontrado, retorna um valor\n",
    "notas.get('ana', 'Não encontado')"
   ]
  },
  {
   "cell_type": "code",
   "execution_count": 76,
   "id": "024afd9d",
   "metadata": {},
   "outputs": [
    {
     "name": "stdout",
     "output_type": "stream",
     "text": [
      "{'joao', 'joana', 'ana', 'maria'}\n"
     ]
    }
   ],
   "source": [
    "#SETS são conjuntos de dados não ordenados de elementos não repetidos\n",
    "\n",
    "bigData = {'joao', 'maria', 'ana', 'joana'}\n",
    "print(bigData)"
   ]
  },
  {
   "cell_type": "code",
   "execution_count": 79,
   "id": "62652a25",
   "metadata": {},
   "outputs": [
    {
     "name": "stdout",
     "output_type": "stream",
     "text": [
      "True\n"
     ]
    }
   ],
   "source": [
    "#Verifica a existência\n",
    "print('joao' in bigData)"
   ]
  },
  {
   "cell_type": "code",
   "execution_count": 81,
   "id": "77746abc",
   "metadata": {},
   "outputs": [
    {
     "name": "stdout",
     "output_type": "stream",
     "text": [
      "{'ana', 'lucas', 'maria', 'joao', 'joana'}\n"
     ]
    }
   ],
   "source": [
    "#Adiciona elemento\n",
    "bigData.add('lucas')\n",
    "print(bigData)"
   ]
  },
  {
   "cell_type": "code",
   "execution_count": 83,
   "id": "8af34a2b",
   "metadata": {},
   "outputs": [
    {
     "name": "stdout",
     "output_type": "stream",
     "text": [
      "5\n"
     ]
    }
   ],
   "source": [
    "#Imprime o numero de elementos\n",
    "print(len(bigData))"
   ]
  },
  {
   "cell_type": "code",
   "execution_count": 84,
   "id": "4fc4159c",
   "metadata": {},
   "outputs": [
    {
     "name": "stdout",
     "output_type": "stream",
     "text": [
      "(1, 2, 3, 4, 5)\n"
     ]
    }
   ],
   "source": [
    "#Tuplas são listas que não podem ser alteradas\n",
    "#Listas usam [], tuplas usam ()\n",
    "\n",
    "tupla = (1, 2, 3, 4, 5)\n",
    "print(tupla)"
   ]
  }
 ],
 "metadata": {
  "kernelspec": {
   "display_name": "Python 3 (ipykernel)",
   "language": "python",
   "name": "python3"
  },
  "language_info": {
   "codemirror_mode": {
    "name": "ipython",
    "version": 3
   },
   "file_extension": ".py",
   "mimetype": "text/x-python",
   "name": "python",
   "nbconvert_exporter": "python",
   "pygments_lexer": "ipython3",
   "version": "3.9.7"
  }
 },
 "nbformat": 4,
 "nbformat_minor": 5
}
