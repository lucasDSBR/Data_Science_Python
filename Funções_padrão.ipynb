{
 "cells": [
  {
   "cell_type": "code",
   "execution_count": 2,
   "id": "f42f3e52",
   "metadata": {},
   "outputs": [
    {
     "name": "stdout",
     "output_type": "stream",
     "text": [
      "200\n",
      "Maior valor 45\n",
      "Menor valor 1\n",
      "Soma 108\n",
      "Arredondamento 2.35\n"
     ]
    }
   ],
   "source": [
    "#Funções internas\n",
    "print(abs(-200)) #valor absoluto\n",
    "lst = [1, 2, 30, 30, 45]\n",
    "print(\"Maior valor\", max(lst))\n",
    "print(\"Menor valor\", min(lst))\n",
    "print(\"Soma\", sum(lst))\n",
    "print(\"Arredondamento\", round(2.34567,2))"
   ]
  },
  {
   "cell_type": "code",
   "execution_count": 5,
   "id": "8aa63fba",
   "metadata": {},
   "outputs": [
    {
     "name": "stdout",
     "output_type": "stream",
     "text": [
      "Média 21.6\n",
      "Mediana 30\n",
      "Moda 30\n"
     ]
    }
   ],
   "source": [
    "#Statística\n",
    "from statistics import *\n",
    "print(\"Média\", mean(lst))\n",
    "print(\"Mediana\", median(lst))\n",
    "print(\"Moda\", mode(lst))"
   ]
  },
  {
   "cell_type": "code",
   "execution_count": 7,
   "id": "c40420b8",
   "metadata": {},
   "outputs": [
    {
     "name": "stdout",
     "output_type": "stream",
     "text": [
      "Desvio padrão:  19.346834366376324\n"
     ]
    }
   ],
   "source": [
    "#Desvio padrão da amostra\n",
    "print(\"Desvio padrão: \", stdev(lst))"
   ]
  },
  {
   "cell_type": "code",
   "execution_count": 9,
   "id": "09db905d",
   "metadata": {},
   "outputs": [
    {
     "name": "stdout",
     "output_type": "stream",
     "text": [
      "Variância:  374.3\n"
     ]
    }
   ],
   "source": [
    "#Variancia da amostra\n",
    "print(\"Variância: \", variance(lst))"
   ]
  },
  {
   "cell_type": "code",
   "execution_count": 10,
   "id": "21316d5f",
   "metadata": {},
   "outputs": [
    {
     "name": "stdout",
     "output_type": "stream",
     "text": [
      "<class 'numpy.ndarray'>\n",
      "[[0.67445861 0.259998   0.4126438  0.50693278 0.9597133  0.09990598\n",
      "  0.70256917 0.29718565]\n",
      " [0.41461054 0.3680407  0.54418324 0.77692844 0.0640043  0.37236307\n",
      "  0.71165629 0.34958346]\n",
      " [0.81982332 0.8941174  0.75657318 0.90783635 0.55549912 0.93994614\n",
      "  0.00128122 0.68502054]\n",
      " [0.36003934 0.52059803 0.03535797 0.53146385 0.67816316 0.50202091\n",
      "  0.6956163  0.21755799]\n",
      " [0.516337   0.93064747 0.13874787 0.56925423 0.5060085  0.74052227\n",
      "  0.83165949 0.07805355]\n",
      " [0.8160682  0.8682365  0.24350773 0.27299887 0.77051565 0.93436028\n",
      "  0.82767904 0.32809194]\n",
      " [0.3980284  0.74814166 0.89497653 0.30067222 0.83096991 0.25223971\n",
      "  0.02142815 0.95775555]\n",
      " [0.10490276 0.78940223 0.65723315 0.77316587 0.12788238 0.76023954\n",
      "  0.265806   0.40166621]]\n"
     ]
    }
   ],
   "source": [
    "from numpy import *\n",
    "a = random.random((8,8))\n",
    "print(type(a))\n",
    "print(a)"
   ]
  }
 ],
 "metadata": {
  "kernelspec": {
   "display_name": "Python 3 (ipykernel)",
   "language": "python",
   "name": "python3"
  },
  "language_info": {
   "codemirror_mode": {
    "name": "ipython",
    "version": 3
   },
   "file_extension": ".py",
   "mimetype": "text/x-python",
   "name": "python",
   "nbconvert_exporter": "python",
   "pygments_lexer": "ipython3",
   "version": "3.9.7"
  }
 },
 "nbformat": 4,
 "nbformat_minor": 5
}
