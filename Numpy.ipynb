{
 "cells": [
  {
   "cell_type": "code",
   "execution_count": 2,
   "id": "fa00eb74",
   "metadata": {},
   "outputs": [],
   "source": [
    "import numpy as np"
   ]
  },
  {
   "cell_type": "code",
   "execution_count": 8,
   "id": "173df0c1",
   "metadata": {},
   "outputs": [
    {
     "name": "stdout",
     "output_type": "stream",
     "text": [
      "[12 34 26 10 10]\n",
      "<class 'numpy.ndarray'>\n"
     ]
    }
   ],
   "source": [
    "#Cria uma matriz unidimancional\n",
    "\n",
    "mt1 = np.array([12, 34, 26, 10, 10])\n",
    "print(mt)\n",
    "print(type(mt))"
   ]
  },
  {
   "cell_type": "code",
   "execution_count": 14,
   "id": "fd340ce0",
   "metadata": {},
   "outputs": [
    {
     "name": "stdout",
     "output_type": "stream",
     "text": [
      "[1. 2. 3.]\n",
      "<class 'numpy.ndarray'>\n",
      "[2 3 4]\n",
      "<class 'numpy.ndarray'>\n"
     ]
    }
   ],
   "source": [
    "#Cria um array com um tipo específico de dados\n",
    "#Cria um array como float de 64 bits\n",
    "mtfloat = np.array([1, 2, 3], dtype = np.float64)\n",
    "print(mtfloat)\n",
    "print(type(mtfloat))\n",
    "mtint = np.array([2, 3, 4], dtype = np.int32)\n",
    "print(mtint)\n",
    "print(type(mtint))"
   ]
  },
  {
   "cell_type": "code",
   "execution_count": 18,
   "id": "bf46e1cc",
   "metadata": {},
   "outputs": [
    {
     "name": "stdout",
     "output_type": "stream",
     "text": [
      "[2.1 3.1 4.5 5.6]\n",
      "[2 3 4 5]\n"
     ]
    }
   ],
   "source": [
    "#Mudar o tipo do array\n",
    "mt = np.array([2.1, 3.1, 4.5, 5.6])\n",
    "print(mt)\n",
    "mtInt = mt.astype(np.int32)\n",
    "print(mtInt)"
   ]
  },
  {
   "cell_type": "code",
   "execution_count": 21,
   "id": "26df9dfb",
   "metadata": {},
   "outputs": [
    {
     "name": "stdout",
     "output_type": "stream",
     "text": [
      "[2.1 3.1 4.5 5.6]\n"
     ]
    }
   ],
   "source": [
    "#Fazendo o inverso da conversão\n",
    "mtInverse = mt.astype(float)\n",
    "print(mtInverse)"
   ]
  },
  {
   "cell_type": "code",
   "execution_count": 23,
   "id": "9a2f2339",
   "metadata": {},
   "outputs": [
    {
     "name": "stdout",
     "output_type": "stream",
     "text": [
      "[[1 2 3]\n",
      " [4 5 6]\n",
      " [7 8 9]]\n"
     ]
    }
   ],
   "source": [
    "#Matriz com mais de uma dimansão\n",
    "#Cria uma matriz bidimencional\n",
    "mt2 = np.array([[1,2,3], [4,5,6], [7,8,9]])\n",
    "print(mt2)"
   ]
  },
  {
   "cell_type": "code",
   "execution_count": 37,
   "id": "e395d687",
   "metadata": {},
   "outputs": [
    {
     "name": "stdout",
     "output_type": "stream",
     "text": [
      "[[[         0 1072693248          0]\n",
      "  [1073741824          0 1074266112]]]\n",
      "-----------\n",
      "[[0. 0. 0.]\n",
      " [0. 0. 0.]\n",
      " [0. 0. 0.]\n",
      " [0. 0. 0.]]\n",
      "-----------\n",
      "[[1. 1. 1. 1. 1. 1. 1.]\n",
      " [1. 1. 1. 1. 1. 1. 1.]\n",
      " [1. 1. 1. 1. 1. 1. 1.]\n",
      " [1. 1. 1. 1. 1. 1. 1.]\n",
      " [1. 1. 1. 1. 1. 1. 1.]]\n",
      "-----------\n",
      "[[1. 0. 0. 0. 0.]\n",
      " [0. 1. 0. 0. 0.]\n",
      " [0. 0. 1. 0. 0.]\n",
      " [0. 0. 0. 1. 0.]\n",
      " [0. 0. 0. 0. 1.]]\n",
      "-----------\n"
     ]
    }
   ],
   "source": [
    "#Cria arrays vazios tipificados\n",
    "# 'empty' significa que não são inicializados, não que são vazios.\n",
    "vazio = np.empty([1, 2, 3], dtype = int)\n",
    "print(vazio)\n",
    "print(\"-----------\")\n",
    "#Cria uma matriz 4x3 com valores zeros\n",
    "matriz4x3 = np.zeros([4,3])\n",
    "print(matriz4x3)\n",
    "print(\"-----------\")\n",
    "#Cria uma matriz 5x7 com valores iguais a 1\n",
    "um = np.ones([5,7])\n",
    "print(um)\n",
    "print(\"-----------\")\n",
    "#Cria uma matriz com valoras da diagonal iguais a 1\n",
    "diagonal = np.eye(5)\n",
    "print(diagonal)\n",
    "print(\"-----------\")"
   ]
  },
  {
   "cell_type": "code",
   "execution_count": 41,
   "id": "40ec6039",
   "metadata": {},
   "outputs": [
    {
     "name": "stdout",
     "output_type": "stream",
     "text": [
      "[0.34355661 0.02818364 0.83393979 0.64685225 0.63191356]\n",
      "-----------\n",
      "[-1.52969873  0.3299761   0.46800615 -0.09087062 -0.20117174]\n",
      "-----------\n",
      "[[0.27202869 4.46628141 7.98589977 8.96395484]\n",
      " [7.57906461 4.54126141 5.8825242  3.81115189]\n",
      " [7.08627838 7.48946338 3.32753655 9.89748062]]\n",
      "-----------\n"
     ]
    }
   ],
   "source": [
    "#Valores aleatórios entre um e zero\n",
    "aleatorio = np.random.random(5)\n",
    "print(aleatorio)\n",
    "print(\"-----------\")\n",
    "#Valores aleatórios distr. normal contendo negativos\n",
    "aleatorio = np.random.randn(5)\n",
    "print(aleatorio)\n",
    "print(\"-----------\")\n",
    "#Valores aleatórios 3 x 4\n",
    "aleatorio = (10*np.random.random((3, 4)))\n",
    "print(aleatorio)\n",
    "print(\"-----------\")"
   ]
  },
  {
   "cell_type": "code",
   "execution_count": 47,
   "id": "e7d2ee98",
   "metadata": {},
   "outputs": [
    {
     "name": "stdout",
     "output_type": "stream",
     "text": [
      "[0.51182162 0.9504637  0.14415961]\n",
      "-----------\n",
      "[[8 9 2 3]\n",
      " [8 4 2 8]\n",
      " [2 4 6 5]]\n"
     ]
    }
   ],
   "source": [
    "#Outra forma de gerar aleatorios\n",
    "#Uso de semente\n",
    "gnr = np.random.default_rng(1)\n",
    "ale = gnr.random(3)\n",
    "print(ale)\n",
    "print(\"-----------\")\n",
    "#Gerar inteiros\n",
    "ale = gnr.integers(10, size=(3, 4))\n",
    "print(ale)"
   ]
  },
  {
   "cell_type": "code",
   "execution_count": 51,
   "id": "cf53985f",
   "metadata": {},
   "outputs": [
    {
     "name": "stdout",
     "output_type": "stream",
     "text": [
      "[11 12  2  4 11 55  2 15]\n",
      "[ 2  4 11 12 15 55]\n"
     ]
    }
   ],
   "source": [
    "#UNIQUE -> Remove repetições\n",
    "j = np.array([11, 12, 2, 4, 11, 55, 2, 15])\n",
    "print(j)\n",
    "j = np.unique(j)\n",
    "print(j)"
   ]
  },
  {
   "cell_type": "code",
   "execution_count": 55,
   "id": "fd2b2985",
   "metadata": {},
   "outputs": [
    {
     "name": "stdout",
     "output_type": "stream",
     "text": [
      "[[17 22 43]\n",
      " [27 25 14]\n",
      " [15 24 32]]\n",
      "22\n",
      "(3, 3)\n"
     ]
    }
   ],
   "source": [
    "#Funções específicas\n",
    "#Cria uma matriz bidimencional k\n",
    "\n",
    "k = np.array([[17, 22, 43], [27, 25, 14], [15, 24, 32]])\n",
    "print(k)\n",
    "\n",
    "#Mostra um elemento específico da matriz k\n",
    "print(k[0][1])\n",
    "\n",
    "#Mostra o tamanho das dimensões da matriz k\n",
    "print(k.shape)"
   ]
  },
  {
   "cell_type": "code",
   "execution_count": 61,
   "id": "1052dd48",
   "metadata": {},
   "outputs": [
    {
     "name": "stdout",
     "output_type": "stream",
     "text": [
      "43\n",
      "14\n",
      "219\n",
      "24.333333333333332\n",
      "8.615231988880057\n"
     ]
    }
   ],
   "source": [
    "#Funções matemáticas\n",
    "#Mostra o maior valor da matriz k\n",
    "print(k.max())\n",
    "#Mostra o menor valor da matriz k\n",
    "print(k.min())\n",
    "#Mostra a soma dos valores da matriz k\n",
    "print(k.sum())\n",
    "#Mostra o valor da média dos valores da matriz k\n",
    "print(k.mean())\n",
    "#Mostra o valor do desvio padrão (standard deviation) dos valores da matriz k\n",
    "print(k.std())"
   ]
  },
  {
   "cell_type": "code",
   "execution_count": 64,
   "id": "c771a3eb",
   "metadata": {},
   "outputs": [
    {
     "name": "stdout",
     "output_type": "stream",
     "text": [
      "[1. 2. 3. 4. 5. 6.]\n",
      "[2.71828183e+00 5.45981500e+01 8.10308393e+03 8.88611052e+06\n",
      " 7.20048993e+10 4.31123155e+15]\n"
     ]
    }
   ],
   "source": [
    "#Funções universais, aplicadas a todos os elementos\n",
    "#Mostra o valor da raiz quadrada de todos elementos\n",
    "k1 = np.array([1, 4, 9, 16, 25, 36])\n",
    "print(np.sqrt(k1))\n",
    "\n",
    "#Mostra o valor do exponencial de todos elementos\n",
    "print(np.exp(k1))"
   ]
  },
  {
   "cell_type": "code",
   "execution_count": 69,
   "id": "ccfda55f",
   "metadata": {},
   "outputs": [
    {
     "name": "stdout",
     "output_type": "stream",
     "text": [
      "2\n",
      "-----------\n",
      "[1 2]\n",
      "-----------\n",
      "[2 3 4 5 6]\n",
      "-----------\n",
      "[4 5 6]\n"
     ]
    }
   ],
   "source": [
    "#Extração de elementos\n",
    "m = np.array([1, 2, 3, 4, 5, 6])\n",
    "#Mostra elementos na posição 2\n",
    "print(m[1])\n",
    "print(\"-----------\")\n",
    "#Mostra o array criado a partir da posição 0, dois elementos\n",
    "print(m[0:2])\n",
    "print(\"-----------\")\n",
    "#Mostra o array criado a partir da 2a posição\n",
    "# até todo o restante do array\n",
    "print(m[1:])\n",
    "print(\"-----------\")\n",
    "#Mostra o array criado a partir da antepenultima\n",
    "#posição até o final\n",
    "print(m[-3:])"
   ]
  },
  {
   "cell_type": "code",
   "execution_count": 76,
   "id": "c3882fe0",
   "metadata": {},
   "outputs": [
    {
     "name": "stdout",
     "output_type": "stream",
     "text": [
      "[[4 5]\n",
      " [6 1]\n",
      " [7 4]]\n",
      "-----------\n",
      "[4 5]\n",
      "-----------\n",
      "[6 1]\n",
      "-----------\n",
      "[7 4]\n",
      "-----------\n",
      "[4 6 7]\n",
      "-----------\n",
      "[5 1 4]\n",
      "-----------\n"
     ]
    }
   ],
   "source": [
    "#Extração de linhas e colunas\n",
    "l = np.array([[4, 5], [6, 1], [7, 4]])\n",
    "print(l)\n",
    "print(\"-----------\")\n",
    "#Primeira linha, todas as colunas\n",
    "l_linha_1 = l[0, :]\n",
    "print(l_linha_1)\n",
    "print(\"-----------\")\n",
    "#Segunda linha, todas as colunas\n",
    "l_linha_1 = l[1, :]\n",
    "print(l_linha_1)\n",
    "print(\"-----------\")\n",
    "#Terceira linha, todas as colunas\n",
    "l_linha_1 = l[2, :]\n",
    "print(l_linha_1)\n",
    "print(\"-----------\")\n",
    "#Todas as linha, primeira coluna\n",
    "l_coluna_1 = l[:, 0]\n",
    "print(l_coluna_1)\n",
    "print(\"-----------\")\n",
    "#Todas as linha, segunda coluna\n",
    "l_coluna_1 = l[:, 1]\n",
    "print(l_coluna_1)\n",
    "print(\"-----------\")"
   ]
  },
  {
   "cell_type": "code",
   "execution_count": 80,
   "id": "5d817f77",
   "metadata": {},
   "outputs": [
    {
     "name": "stdout",
     "output_type": "stream",
     "text": [
      "[[2 3]\n",
      " [4 5]]\n",
      "-----------\n",
      "[[1 2]\n",
      " [3 4]]\n",
      "-----------\n",
      "[[3 3]\n",
      " [5 5]\n",
      " [7 7]]\n"
     ]
    }
   ],
   "source": [
    "#Adição e multiplicação de matrizes\n",
    "n = np.array([[1, 2], [3, 4]])\n",
    "o = np.array([[1, 1], [1, 1]])\n",
    "res1 = n+o\n",
    "print(res1)\n",
    "print(\"-----------\")\n",
    "res2 = n*o\n",
    "print(res2)\n",
    "print(\"-----------\")\n",
    "p = np.array([[1,2], [3,4],[5,6]])\n",
    "q = np.array([[2,1]])\n",
    "print(p+q)"
   ]
  },
  {
   "cell_type": "code",
   "execution_count": 82,
   "id": "40e2a993",
   "metadata": {},
   "outputs": [
    {
     "name": "stdout",
     "output_type": "stream",
     "text": [
      "[[ 0  1  2  3  4]\n",
      " [ 5  6  7  8  9]\n",
      " [10 11 12 13 14]]\n",
      "-----------\n",
      "[[ 0  5 10]\n",
      " [ 1  6 11]\n",
      " [ 2  7 12]\n",
      " [ 3  8 13]\n",
      " [ 4  9 14]]\n"
     ]
    }
   ],
   "source": [
    "#Transposição, rearranja um conjunto de 15 elementos de 0 a 14\n",
    "# em 3 linhas e 5 colunas\n",
    "f = np.arange(15).reshape((3, 5))\n",
    "#Mostra a matriz transposta entre linha e coluna\n",
    "print(f)\n",
    "print(\"-----------\")\n",
    "s = f.T\n",
    "print(s)"
   ]
  },
  {
   "cell_type": "code",
   "execution_count": 85,
   "id": "1a09239c",
   "metadata": {},
   "outputs": [
    {
     "name": "stdout",
     "output_type": "stream",
     "text": [
      "[[ 0  1  2  3  4]\n",
      " [ 5  6  7  8  9]\n",
      " [10 11 12 13 14]]\n",
      "------------\n",
      "[[ 0  5 10]\n",
      " [ 1  6 11]\n",
      " [ 2  7 12]\n",
      " [ 3  8 13]\n",
      " [ 4  9 14]]\n"
     ]
    }
   ],
   "source": [
    "#Outra forma de fazer, mesmo resultado\n",
    "r = np.arange(15).reshape((3, 5))\n",
    "print(r)\n",
    "print(\"------------\")\n",
    "#Rearranja um conjunto de 15 elementos\n",
    "#Mostra a matriz transposta entre linha e coluna\n",
    "s = r.transpose((1,0))\n",
    "print(s)"
   ]
  },
  {
   "cell_type": "code",
   "execution_count": 88,
   "id": "67616e02",
   "metadata": {},
   "outputs": [
    {
     "name": "stdout",
     "output_type": "stream",
     "text": [
      "[[-0.20115349 -0.15007749  0.37053711 -0.04238733]\n",
      " [ 0.03038298 -0.21812753 -0.35503064 -1.28407137]\n",
      " [-1.48534249 -0.54176567 -0.28316339 -1.51948836]\n",
      " [ 0.16828814 -0.70926313  1.254706   -0.94135857]]\n",
      "[[False False  True False]\n",
      " [ True False False False]\n",
      " [False False False False]\n",
      " [ True False  True False]]\n",
      "[[-1 -1  1 -1]\n",
      " [ 1 -1 -1 -1]\n",
      " [-1 -1 -1 -1]\n",
      " [ 1 -1  1 -1]]\n"
     ]
    }
   ],
   "source": [
    "#EXPRESSÕES LOGICAS\n",
    "#usando where\n",
    "# Cria matriz com valores aleatórios positivos e negativos\n",
    "v = np.random.randn(4, 4)\n",
    "print(v)\n",
    "# Criando matriz com valores booleanos baseado no array v\n",
    "x = (v > 0)\n",
    "print(x)\n",
    "# Criando matriz com valores -1 e 1 baseado nos valores do array x\n",
    "z = np.where(x > 0, 1, -1)\n",
    "print(z)"
   ]
  }
 ],
 "metadata": {
  "kernelspec": {
   "display_name": "Python 3 (ipykernel)",
   "language": "python",
   "name": "python3"
  },
  "language_info": {
   "codemirror_mode": {
    "name": "ipython",
    "version": 3
   },
   "file_extension": ".py",
   "mimetype": "text/x-python",
   "name": "python",
   "nbconvert_exporter": "python",
   "pygments_lexer": "ipython3",
   "version": "3.9.7"
  }
 },
 "nbformat": 4,
 "nbformat_minor": 5
}
